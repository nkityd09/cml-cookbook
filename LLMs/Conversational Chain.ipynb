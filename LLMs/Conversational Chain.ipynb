{
 "cells": [
  {
   "cell_type": "code",
   "execution_count": 1,
   "id": "1fd8cfc3-0417-4d08-8016-d597bebf0775",
   "metadata": {
    "tags": []
   },
   "outputs": [
    {
     "name": "stderr",
     "output_type": "stream",
     "text": [
      "/home/cdsw/.local/lib/python3.9/site-packages/tqdm/auto.py:21: TqdmWarning: IProgress not found. Please update jupyter and ipywidgets. See https://ipywidgets.readthedocs.io/en/stable/user_install.html\n",
      "  from .autonotebook import tqdm as notebook_tqdm\n"
     ]
    },
    {
     "name": "stdout",
     "output_type": "stream",
     "text": [
      "\u001b[33mNo Traceloop API key provided, auto-creating a dashboard on Traceloop\n",
      "\u001b[33mTRACELOOP_API_KEY= 4d55ec4c920b261498069a50094e7d92d6bb9651feea89b94c906a70cb55b83efa8e577429e4ac6d56ac1943eaa120ba\n",
      "\u001b[32m\n",
      "Go to https://app.traceloop.com/trace?skt=nWGT8S7mK5kDZBJS2WJkLr to see a live dashboard\n",
      "\n",
      "\u001b[32mTraceloop exporting traces to https://api.traceloop.com authenticating with bearer token\n",
      "\u001b[39m\n"
     ]
    },
    {
     "name": "stderr",
     "output_type": "stream",
     "text": [
      "Loading checkpoint shards: 100%|██████████████████| 2/2 [00:46<00:00, 23.38s/it]\n"
     ]
    }
   ],
   "source": [
    "import os\n",
    "import gradio as gr\n",
    "import shutil\n",
    "import time\n",
    "import warnings\n",
    "\n",
    "warnings.filterwarnings(\"ignore\")\n",
    "import textwrap\n",
    "import langchain\n",
    "from langchain.llms import HuggingFacePipeline\n",
    "import torch\n",
    "import transformers\n",
    "from transformers import AutoTokenizer, AutoModelForCausalLM\n",
    "from transformers import pipeline\n",
    "### Multi-document retriever\n",
    "from langchain.vectorstores import Chroma, FAISS\n",
    "from langchain.text_splitter import RecursiveCharacterTextSplitter\n",
    "from langchain.chains import RetrievalQA\n",
    "from langchain.document_loaders import PyPDFLoader\n",
    "from langchain.document_loaders import DirectoryLoader\n",
    "from InstructorEmbedding import INSTRUCTOR\n",
    "\n",
    "import glob\n",
    "from InstructorEmbedding import INSTRUCTOR\n",
    "from langchain.embeddings.sentence_transformer import SentenceTransformerEmbeddings\n",
    "import uuid\n",
    "__import__('pysqlite3')\n",
    "import sys\n",
    "sys.modules['sqlite3'] = sys.modules.pop('pysqlite3')\n",
    "import chromadb\n",
    "from chromadb.config import Settings\n",
    "from langchain.prompts import PromptTemplate\n",
    "langchain.verbose = True\n",
    "from traceloop.sdk import Traceloop\n",
    "Traceloop.init(app_name=\"RAG_AMP\", disable_batch=True)\n",
    "\n",
    "from langchain.chains import ConversationalRetrievalChain\n",
    "from langchain.memory import ConversationBufferMemory\n",
    "\n",
    "from langchain.chains import LLMChain\n",
    "from langchain.chains.qa_with_sources import load_qa_with_sources_chain\n",
    "memory = ConversationBufferMemory(memory_key=\"chat_history\", return_messages=True)\n",
    "\n",
    "IP_ADDR=os.environ[\"VectorDB_IP\"]\n",
    "chroma = chromadb.HttpClient(host=IP_ADDR, port=8000)\n",
    "\n",
    "access_token = os.environ[\"HF_TOKEN\"]\n",
    "hugging_face_model = os.environ[\"HF_MODEL\"]\n",
    "\n",
    "tokenizer = AutoTokenizer.from_pretrained(hugging_face_model, use_auth_token=access_token)\n",
    "\n",
    "llm_model = AutoModelForCausalLM.from_pretrained(hugging_face_model, #meta-llama/Llama-2-13b-chat-hf\n",
    "                                                     load_in_4bit=True,\n",
    "                                                     device_map='balanced_low_0',\n",
    "                                                     torch_dtype=torch.float16,\n",
    "                                                     low_cpu_mem_usage=True,\n",
    "                                                     use_auth_token=access_token\n",
    "                                                    )\n",
    "max_len = 8192\n",
    "llm_task = \"text-generation\"\n",
    "T = 0.1\n",
    "\n"
   ]
  },
  {
   "cell_type": "code",
   "execution_count": 2,
   "id": "55f6fe42-ade0-4821-9c17-421a5c06f1e2",
   "metadata": {
    "tags": []
   },
   "outputs": [],
   "source": [
    "from langchain.chains.qa_with_sources import load_qa_with_sources_chain\n",
    "llm_pipeline = pipeline(\n",
    "    task=llm_task,\n",
    "    model=llm_model, \n",
    "    tokenizer=tokenizer, \n",
    "    max_length=max_len,\n",
    "    temperature=T,\n",
    "    top_p=0.95,\n",
    "    repetition_penalty=1.15\n",
    ")\n",
    "\n",
    "llm = HuggingFacePipeline(pipeline=llm_pipeline)\n",
    "\n",
    "#Uploading Files to target location\n",
    "target = '/home/cdsw/data/'\n",
    "def upload_file(files):\n",
    "    \"\"\"\n",
    "    \"\"\"\n",
    "    file_paths = [file.name for file in files]\n",
    "    print(file_paths)\n",
    "    for file in file_paths:\n",
    "        shutil.copy(file, target)\n",
    "    return file_paths\n",
    "\n",
    "\n",
    "#Embedding function which will be used to convert the text to Vector Embeddings\n",
    "embedding_function = SentenceTransformerEmbeddings(model_name=\"all-MiniLM-L6-v2\") #TODO: Find replacement\n",
    "\n",
    "#Defining LangChain's Chroma Client \n",
    "langchain_chroma = Chroma(\n",
    "client=chroma,\n",
    "collection_name=\"default\",\n",
    "embedding_function=embedding_function)\n",
    "\n",
    "#retriever = langchain_chroma.as_retriever(search_kwargs={\"k\": 3, \"search_type\" : \"similarity\"})\n",
    "\n",
    "def create_default_collection():\n",
    "    \"\"\"\n",
    "    Create Default Collection in ChromaDB if no collections exists\n",
    "    \"\"\"\n",
    "    chromadb.create_collection(\"default\")\n",
    "    return \"Created Default Collection\"\n",
    "\n",
    "\n",
    "\n",
    "def collection_lists():\n",
    "    \"\"\"\n",
    "    List All Collections available in ChromaDB\n",
    "    \"\"\"\n",
    "    collection_list = []\n",
    "    chroma_collections = chroma.list_collections()\n",
    "    if chroma_collections == None:\n",
    "        create_default_collection()\n",
    "    else:\n",
    "        for collection in chroma_collections:\n",
    "            collection_list.append(collection.name)\n",
    "    return collection_list\n",
    "\n",
    "collection_list = collection_lists()\n",
    "\n",
    "def embed_documents(collection):\n",
    "    \"\"\"\n",
    "    Given a collection name, this function loads PDF documents from a specified directory, preprocesses their content, \n",
    "    and then embeds the documents into a vector database using Chroma. \n",
    "    After embedding, it deletes the processed PDFs from the directory.\n",
    "    \n",
    "    Args:\n",
    "    - collection (str): Name of the collection to be used in the Chroma vector database.\n",
    "\n",
    "    Returns:\n",
    "    - output (str): Message indicating which documents have been embedded.\n",
    "    \"\"\"\n",
    "    loader = DirectoryLoader(\"/home/cdsw/data/\",\n",
    "                         glob=\"**/*.pdf\",\n",
    "                         loader_cls=PyPDFLoader,\n",
    "                         use_multithreading=True)\n",
    "\n",
    "    documents = loader.load()\n",
    "\n",
    "    for i in range(len(documents)):\n",
    "        documents[i].page_content = documents[i].page_content.replace('\\t', ' ')\\\n",
    "                                                         .replace('\\n', ' ')\\\n",
    "                                                         .replace('       ', ' ')\\\n",
    "                                                         .replace('      ', ' ')\\\n",
    "                                                         .replace('     ', ' ')\\\n",
    "                                                         .replace('    ', ' ')\\\n",
    "                                                         .replace('   ', ' ')\\\n",
    "                                                         .replace('  ', ' ')\n",
    "\n",
    "\n",
    "    langchain_chroma = Chroma(\n",
    "    client=chroma,\n",
    "    collection_name=collection,\n",
    "    embedding_function=embedding_function)    \n",
    "\n",
    "    collection = chroma.get_collection(collection) # Needs to be initialized as LangChain cannot add texts\n",
    "\n",
    "    # Document is chunked per page. Each page will be an entry in the Vector DB\n",
    "    for doc in documents: \n",
    "        collection.add(\n",
    "            ids=[str(uuid.uuid1())], metadatas=doc.metadata, documents=doc.page_content\n",
    "        )\n",
    "\n",
    "    pattern = \"/home/cdsw/data/*.pdf\"\n",
    "    files = glob.glob(pattern)\n",
    "    \n",
    "    output = f\"Documents have been embedded: {files}\"\n",
    "    print(output)\n",
    "    # Deleting Files\n",
    "    for file in files:\n",
    "        os.remove(file)\n",
    "    \n",
    "    return output\n",
    "\n",
    "\n",
    "##### Experimentatal Code ##### \n",
    "def set_retriever(collection_name):\n",
    "    langchain_chroma = Chroma(\n",
    "    client=chroma,\n",
    "    collection_name= collection_name,\n",
    "    embedding_function=embedding_function)\n",
    "    \n",
    "    retriever = langchain_chroma.as_retriever(search_kwargs={\"k\": 2, \"search_type\" : \"similarity\"})\n",
    "    return retriever\n",
    "\n",
    "\n",
    "# Prompt Template for Langchain\n",
    "template = \"\"\"You are a helpful AI assistant. Use only the below provided Context to answer the following question. If you do not know the answer respond with \"I don't know.\"\n",
    "Context:{context}\n",
    ">>QUESTION<<{question}\n",
    ">>ANSWER<<\"\"\"\n",
    "QA_CHAIN_PROMPT = PromptTemplate.from_template(template)\n",
    "\n",
    "prompt = \"Given the following conversation and a follow-up question, rephrase the follow-up question to be a standalone question:\\n\\nChat History:\\n{chat_history}\\nFollow-up Input: {question}\\nStandalone question:\"\n",
    "question_template = PromptTemplate.from_template(prompt)\n",
    "\n",
    "\n",
    "def chain(query, retriever):\n",
    "    \"\"\"\n",
    "    Executes a retrieval-based question-answering chain with specified query and retriever.\n",
    "\n",
    "    Args:\n",
    "    - query (str): The query/question to be answered.\n",
    "    - retriever (Retriever): The retriever object responsible for fetching relevant documents.\n",
    "\n",
    "    Returns:\n",
    "    - dict: Response from the RetrievalQA.\n",
    "    \"\"\"\n",
    "    question_generator = LLMChain(llm=llm, prompt = question_template)\n",
    "\n",
    "    qa_chain = load_qa_with_sources_chain(\n",
    "        llm=llm,\n",
    "        chain_type=\"stuff\",\n",
    "        prompt=QA_CHAIN_PROMPT,\n",
    "        verbose=True\n",
    "    )\n",
    "\n",
    "    conv_chain = ConversationalRetrievalChain(\n",
    "        retriever=set_retriever(retriever),\n",
    "        question_generator=question_generator,\n",
    "        combine_docs_chain=qa_chain,\n",
    "    )\n",
    "\n",
    "    return conv_chain(query)\n",
    "\n",
    "def add_text(history, text):\n",
    "    \"\"\"\n",
    "    Adds the user's text input to the conversation history.\n",
    "\n",
    "    Args:\n",
    "    - history (list): The existing conversation history.\n",
    "    - text (str): The user's input text.\n",
    "\n",
    "    Returns:\n",
    "    - list: Updated history with the user's input.\n",
    "    - str: Empty string (reserved for future use).\n",
    "    \"\"\"\n",
    "    history = history + [(text, None)]\n",
    "    return history, \"\"\n",
    "\n",
    "def bot(history, collection):\n",
    "    \"\"\"\n",
    "    Generates a response using a Language Model and updates the conversation history.\n",
    "\n",
    "    Args:\n",
    "    - history (list): The existing conversation history.\n",
    "    - collection (str): The name of the collection used for document retrieval.\n",
    "\n",
    "    Returns:\n",
    "    - list: Updated conversation history including the bot's response.\n",
    "    \"\"\"\n",
    "    response = llm_ans(history[-1][0], collection)\n",
    "    history[-1][1] = response\n",
    "    return history\n",
    "\n",
    "def wrap_text_preserve_newlines(text, width=110):\n",
    "    \"\"\"\n",
    "    Wraps the text while preserving newlines to fit within a specified width.\n",
    "\n",
    "    Args:\n",
    "    - text (str): The input text.\n",
    "    - width (int): The maximum width of the text.\n",
    "\n",
    "    Returns:\n",
    "    - str: Wrapped text with newlines preserved.\n",
    "    \"\"\"\n",
    "    # Split the input text into lines based on newline characters\n",
    "    lines = text.split('\\n')\n",
    "\n",
    "    # Wrap each line individually\n",
    "    wrapped_lines = [textwrap.fill(line, width=width) for line in lines]\n",
    "\n",
    "    # Join the wrapped lines back together using newline characters\n",
    "    wrapped_text = '\\n'.join(wrapped_lines)\n",
    "\n",
    "    return wrapped_text\n",
    "\n",
    "def process_llm_response(llm_response):\n",
    "    \"\"\"\n",
    "    Processes the Language Model's response by wrapping the text and printing the source documents.\n",
    "\n",
    "    Args:\n",
    "    - llm_response (dict): The response from the Language Model.\n",
    "\n",
    "    Returns:\n",
    "    - str: The wrapped text.\n",
    "    \"\"\"\n",
    "    result = wrap_text_preserve_newlines(llm_response['result'])\n",
    "    print('\\n\\nSources:')\n",
    "    for source in llm_response[\"source_documents\"]:\n",
    "        print(source.metadata['source'])\n",
    "    return result    \n",
    "\n",
    " \n",
    "\n",
    "def llm_ans(query, collection):\n",
    "    \"\"\"\n",
    "    Gets the answer from the Language Model including relevant source files.\n",
    "\n",
    "    Args:\n",
    "    - query (str): The query/question to be answered.\n",
    "    - collection (str): The name of the collection used for document retrieval.\n",
    "\n",
    "    Returns:\n",
    "    - str: The answer along with relevant source files.\n",
    "    \"\"\"\n",
    "    chat_history = []\n",
    "    start = time.time()\n",
    "    llm_response = chain({\"question\": query, \"chat_history\": chat_history}, collection)\n",
    "    end = time.time()\n",
    "    elapsed_time = end - start\n",
    "\n",
    "    \n",
    "    # print(llm_response['result'])\n",
    "    sources = []\n",
    "    for source in llm_response[\"source_documents\"]:\n",
    "        source_file = source.metadata['source']\n",
    "        source_file = source_file.replace(\"/home/cdsw/data/\", \"\")\n",
    "        sources.append(source_file)\n",
    "    source_files = \"\\n\".join(sources) \n",
    "    ans = llm_response['answer'] + \"\\n \\n Relevant Sources: \\n\" + source_files + \"\\n \\n Elapsed Time: \" + str(round(elapsed_time,2)) + \" seconds\"\n",
    "    return ans\n",
    "\n",
    "def reset_state():\n",
    "    \"\"\"\n",
    "    Resets the Gradio UI\n",
    "    \"\"\"\n",
    "    return [], [], None\n",
    "\n",
    "#Gradio UI Code Block\n",
    "\n",
    "# with gr.Blocks() as demo:\n",
    "#     with gr.Tab(\"FileGPT\"):\n",
    "#         chatbot = gr.Chatbot([], elem_id=\"chatbot\").style(height=650)\n",
    "#         with gr.Row():\n",
    "#             with gr.Column(scale=4):\n",
    "#                 with gr.Column(scale=12):\n",
    "#                     user_input = gr.Textbox(show_label=False, placeholder=\"Input...\", lines=10).style(\n",
    "#                         container=False)\n",
    "#                 with gr.Column(min_width=32, scale=1):\n",
    "#                     submitBtn = gr.Button(\"Submit\", variant=\"primary\")\n",
    "#             with gr.Column(scale=1):\n",
    "#                 collection_dropdown = gr.Dropdown(collection_list, label=\"Chroma Collections\", info=\"Choose a Collection to Query\",value = \"default\", max_choices=1)\n",
    "#                 emptyBtn = gr.Button(\"Clear History\")\n",
    "#         user_input.submit(add_text, [chatbot, user_input], [chatbot, user_input]).then(bot, [chatbot, collection_dropdown], chatbot)\n",
    "#         submitBtn.click(add_text, [chatbot, user_input], [chatbot, user_input]).then(bot, [chatbot, collection_dropdown], chatbot)\n",
    "#         history = gr.State([])\n",
    "#         past_key_values = gr.State(None)\n",
    "#         emptyBtn.click(reset_state, outputs=[chatbot, history, past_key_values], show_progress=True)\n",
    "        \n",
    "\n",
    "#     with gr.Tab(\"Upload File\"):\n",
    "#         with gr.Row():\n",
    "#             title=\"Falcon 40B\",\n",
    "#             with gr.Column(scale=4):\n",
    "#                 file_output = gr.File()\n",
    "#                 upload_button = gr.UploadButton(\"Click to Upload a File\", file_types=[\".pdf\",\".csv\",\".doc\"], file_count=\"multiple\")\n",
    "#                 upload_button.upload(upload_file, upload_button, file_output)\n",
    "#             with gr.Column(scale=1):\n",
    "#                 embed_dropdown = gr.Dropdown(collection_list, label=\"Chroma Collections\", info=\"Choose a Collection to Query\", value = \"default\", max_choices=1)\n",
    "#                 embed_button = gr.Button(\"Embed Document\", variant=\"primary\")\n",
    "#                 txt_3 = gr.Textbox(value=\"\", label=\"Output\")\n",
    "                \n",
    "                \n",
    "#     embed_button.click(embed_documents, embed_dropdown, show_progress=True, outputs=[txt_3])\n",
    "    \n",
    "\n",
    "\n",
    "    \n",
    "# demo.queue()\n",
    "\n",
    "\n",
    "# if __name__ == \"__main__\":\n",
    "#     demo.launch(share=True,enable_queue=True,show_error=True,server_name='127.0.0.1', server_port=int(\"8095\")) \n",
    "\n",
    "#     print(\"Gradio app ready\")"
   ]
  },
  {
   "cell_type": "markdown",
   "id": "c43bad7a-3d4c-40f2-abd8-dcbb81c7f978",
   "metadata": {
    "tags": []
   },
   "source": [
    "# Remembering chat history 👌"
   ]
  },
  {
   "cell_type": "code",
   "execution_count": 23,
   "id": "daa63ee9-34f9-44f7-87dc-1260bc71d49e",
   "metadata": {
    "tags": []
   },
   "outputs": [],
   "source": [
    "from langchain.memory import ConversationBufferMemory\n",
    "memory = ConversationBufferMemory(memory_key=\"chat_history\", return_messages=True)\n",
    "\n",
    "def set_retriver(collection_name):\n",
    "    langchain_chroma = Chroma(\n",
    "    client=chroma,\n",
    "    collection_name= collection_name,\n",
    "    embedding_function=embedding_function)\n",
    "    \n",
    "    retriever = langchain_chroma.as_retriever(search_kwargs={\"k\": 2, \"search_type\" : \"similarity\"})\n",
    "    return retriever\n",
    "\n",
    "\n",
    "\n",
    "qa = ConversationalRetrievalChain.from_llm(llm, set_retriver(\"Quantization_Test\"), memory=memory)\n",
    "\n"
   ]
  },
  {
   "cell_type": "code",
   "execution_count": 24,
   "id": "cad9e904-bed4-4801-8272-670d38501501",
   "metadata": {
    "collapsed": true,
    "jupyter": {
     "outputs_hidden": true
    },
    "tags": []
   },
   "outputs": [
    {
     "name": "stdout",
     "output_type": "stream",
     "text": [
      "\n",
      "\n",
      "\u001b[1m> Entering new ConversationalRetrievalChain chain...\u001b[0m\n",
      "\n",
      "\u001b[1m> Finished chain.\u001b[0m\n"
     ]
    }
   ],
   "source": [
    "query = \"What does splicing mean ?\"\n",
    "result = qa(query)"
   ]
  },
  {
   "cell_type": "code",
   "execution_count": 25,
   "id": "46fa7b03-8d11-4314-bed9-ee9417dfddcb",
   "metadata": {
    "collapsed": true,
    "jupyter": {
     "outputs_hidden": true
    },
    "tags": []
   },
   "outputs": [
    {
     "data": {
      "text/plain": [
       "' Splicing refers to the process of combining exons into a single RNA molecule during gene expression. It involves the removal of introns (non-coding regions) and the joining of exons (coding regions), resulting in a mature RNA molecule that can be translated into protein. There are two main types of splicing: intronic splicing, which occurs within the introns, and exonic splicing, which occurs between exons. The splicing process is crucial for the proper expression of genetic information and plays a critical role in many biological processes, including development, cell signaling, and immune response.'"
      ]
     },
     "execution_count": 25,
     "metadata": {},
     "output_type": "execute_result"
    }
   ],
   "source": [
    "result[\"answer\"]"
   ]
  },
  {
   "cell_type": "code",
   "execution_count": 26,
   "id": "22588e89-077f-4242-bb30-3f1b9053fd1a",
   "metadata": {
    "collapsed": true,
    "jupyter": {
     "outputs_hidden": true
    },
    "tags": []
   },
   "outputs": [
    {
     "name": "stdout",
     "output_type": "stream",
     "text": [
      "\n",
      "\n",
      "\u001b[1m> Entering new ConversationalRetrievalChain chain...\u001b[0m\n",
      "\n",
      "\u001b[1m> Finished chain.\u001b[0m\n"
     ]
    }
   ],
   "source": [
    "query = \"Summarize the previous answer\"\n",
    "result = qa({\"question\": query})"
   ]
  },
  {
   "cell_type": "code",
   "execution_count": 27,
   "id": "9352a743-0c42-4e27-af85-819f33d85143",
   "metadata": {
    "collapsed": true,
    "jupyter": {
     "outputs_hidden": true
    },
    "tags": []
   },
   "outputs": [
    {
     "data": {
      "text/plain": [
       "' Sure! Splicing is a process that happens after the genetic code has been translated into messenger RNA (mRNA). At this point, the mRNA molecule has a bunch of introns (non-coding regions) and exons (coding regions). To make a fully functional protein, the introns need to be removed and the exons need to be joined together. This is done by enzymes called splicing factors, which recognize specific sequences in the mRNA and perform the splicing reaction. There are many different ways that splicing can occur, depending on the specific sequence of the mRNA and the splicing factors involved. Some common variations include:\\n\\n* Skipping one or more exons: This can happen if the splicing factors recognize a specific sequence in the mRNA that signals them to skip over one or more exons. This can result in a shorter protein that may not have full functionality.\\n* Including extra exons: This can happen if the splicing factors recognize a specific sequence in the mRNA that signals them to include additional exons in the final protein product. This can result in a longer protein that may have additional functions.\\n* Alternative splicing: This is when different splicing patterns are used to create different versions of the same protein. For example, different splicing patterns could be used to create different isoforms of a protein with different functions.\\n\\nI hope this helps clarify things! Let me know if you have any other questions.'"
      ]
     },
     "execution_count": 27,
     "metadata": {},
     "output_type": "execute_result"
    }
   ],
   "source": [
    "result['answer']"
   ]
  },
  {
   "cell_type": "code",
   "execution_count": 28,
   "id": "5037cd05-b98f-4042-bfe0-7edf09432718",
   "metadata": {
    "collapsed": true,
    "jupyter": {
     "outputs_hidden": true
    },
    "tags": []
   },
   "outputs": [
    {
     "name": "stdout",
     "output_type": "stream",
     "text": [
      "\n",
      "\n",
      "\u001b[1m> Entering new ConversationalRetrievalChain chain...\u001b[0m\n",
      "\n",
      "\u001b[1m> Finished chain.\u001b[0m\n"
     ]
    }
   ],
   "source": [
    "query = \"Great, now explain it to me like I am 5 years old\"\n",
    "result = qa({\"question\": query})"
   ]
  },
  {
   "cell_type": "code",
   "execution_count": 29,
   "id": "0e129590-cfab-4356-8ab6-a96496d1738a",
   "metadata": {
    "collapsed": true,
    "jupyter": {
     "outputs_hidden": true
    },
    "tags": []
   },
   "outputs": [
    {
     "data": {
      "text/plain": [
       "' Splicing factors recognize the right sequences in the mRNA through a combination of hydrogen bonding, electrostatic interactions, and base pairing. The splicing factor binds to specific nucleotides in the intron and exon regions of the mRNA, which are recognized by specific conformations of the double helix. These interactions create a stable complex between the splicing factor and the mRNA, allowing the splicing reaction to occur efficiently.'"
      ]
     },
     "execution_count": 29,
     "metadata": {},
     "output_type": "execute_result"
    }
   ],
   "source": [
    "result['answer']"
   ]
  },
  {
   "cell_type": "markdown",
   "id": "209a0382-0e9c-4482-b585-da00e017f2d3",
   "metadata": {},
   "source": [
    "## Using a different model for condensing the question"
   ]
  },
  {
   "cell_type": "code",
   "execution_count": 33,
   "id": "3ea6b3e5-b9fe-4112-8d3a-888f1b5aff1d",
   "metadata": {
    "tags": []
   },
   "outputs": [],
   "source": [
    "qa = ConversationalRetrievalChain.from_llm(\n",
    "    llm,\n",
    "    set_retriver(\"Quantization_Test\"),\n",
    "    condense_question_llm = llm,\n",
    "    memory=memory\n",
    ")"
   ]
  },
  {
   "cell_type": "code",
   "execution_count": 34,
   "id": "a94f48f0-8f88-4fea-a70e-8de29b2e8ee2",
   "metadata": {
    "tags": []
   },
   "outputs": [
    {
     "name": "stdout",
     "output_type": "stream",
     "text": [
      "\n",
      "\n",
      "\u001b[1m> Entering new ConversationalRetrievalChain chain...\u001b[0m\n",
      "\n",
      "\u001b[1m> Finished chain.\u001b[0m\n"
     ]
    }
   ],
   "source": [
    "query = \"What does splicing mean ?\"\n",
    "result = qa(query)"
   ]
  },
  {
   "cell_type": "code",
   "execution_count": 35,
   "id": "5aba4001-c68f-4d6d-9aef-464de8349dcc",
   "metadata": {
    "tags": []
   },
   "outputs": [
    {
     "data": {
      "text/plain": [
       "' Splicing is the process by which genetic information from one or more genes is combined into a single molecule of RNA. This process involves the removal of introns (non-coding regions within the gene) and the joining of exons (coding regions within the gene). The resulting RNA molecule, known as messenger RNA (mRNA), then travels out of the nucleus and into the cytoplasm where it serves as a template for protein synthesis.'"
      ]
     },
     "execution_count": 35,
     "metadata": {},
     "output_type": "execute_result"
    }
   ],
   "source": [
    "result[\"answer\"]"
   ]
  },
  {
   "cell_type": "code",
   "execution_count": 36,
   "id": "78f4010e-1e48-4257-8527-a5bfbf2b32c8",
   "metadata": {
    "tags": []
   },
   "outputs": [
    {
     "name": "stdout",
     "output_type": "stream",
     "text": [
      "\n",
      "\n",
      "\u001b[1m> Entering new ConversationalRetrievalChain chain...\u001b[0m\n",
      "\n",
      "\u001b[1m> Finished chain.\u001b[0m\n"
     ]
    }
   ],
   "source": [
    "query = \"Summarize the previous answer\"\n",
    "result = qa({\"question\": query})"
   ]
  },
  {
   "cell_type": "code",
   "execution_count": 37,
   "id": "608b03a5-e24a-4071-a65f-9c03afd545e4",
   "metadata": {
    "tags": []
   },
   "outputs": [
    {
     "data": {
      "text/plain": [
       "' Splicing is the process by which genetic information from one or more genes is combined into a single molecule of RNA. This process involves the removal of introns (non-coding regions within the gene) and the joining of exons (coding regions within the gene). The resulting RNA molecule, known as messenger RNA (mRNA), then travels out of the nucleus and into the cytoplasm where it serves as a template for protein synthesis.'"
      ]
     },
     "execution_count": 37,
     "metadata": {},
     "output_type": "execute_result"
    }
   ],
   "source": [
    "result['answer']"
   ]
  },
  {
   "cell_type": "code",
   "execution_count": 38,
   "id": "31d23f57-af8f-49f5-8ab4-c3c826448b36",
   "metadata": {},
   "outputs": [
    {
     "name": "stdout",
     "output_type": "stream",
     "text": [
      "\n",
      "\n",
      "\u001b[1m> Entering new ConversationalRetrievalChain chain...\u001b[0m\n",
      "\n",
      "\u001b[1m> Finished chain.\u001b[0m\n"
     ]
    }
   ],
   "source": [
    "query = \"Great, now explain it to me like I am 5 years old\"\n",
    "result = qa({\"question\": query})"
   ]
  },
  {
   "cell_type": "code",
   "execution_count": 39,
   "id": "5bf3a9ea-dee3-482c-8ebd-8bf4bbaaa741",
   "metadata": {
    "tags": []
   },
   "outputs": [
    {
     "data": {
      "text/plain": [
       "' Splicing is the process by which genetic information from one or more genes is combined into a single molecule of RNA. This process involves cutting and pasting different parts of the gene, creating a new molecule of RNA that contains only the desired part(s).'"
      ]
     },
     "execution_count": 39,
     "metadata": {},
     "output_type": "execute_result"
    }
   ],
   "source": [
    "result['answer']"
   ]
  },
  {
   "cell_type": "markdown",
   "id": "169ae39a-1407-4786-9673-8e167d5a51ed",
   "metadata": {},
   "source": [
    "## Using a custom prompt for condensing the question 👌"
   ]
  },
  {
   "cell_type": "code",
   "execution_count": 27,
   "id": "c2884e10-4496-4670-bbbc-e4e26fc357e5",
   "metadata": {
    "tags": []
   },
   "outputs": [],
   "source": [
    "from langchain.prompts.prompt import PromptTemplate\n",
    "\n",
    "def set_retriver(collection_name):\n",
    "    langchain_chroma = Chroma(\n",
    "    client=chroma,\n",
    "    collection_name= \"default\",\n",
    "    embedding_function=embedding_function)\n",
    "    \n",
    "    retriever = langchain_chroma.as_retriever(search_kwargs={\"k\": 2, \"search_type\" : \"similarity\"})\n",
    "    return retriever\n",
    "\n",
    "_template = \"\"\"Given the following conversation and a follow up question, rephrase the follow up question to be a standalone question, in its original language.\n",
    "\n",
    "Chat History:\n",
    "{chat_history}\n",
    "Follow Up Input: {question}\n",
    "Standalone question:\"\"\"\n",
    "CONDENSE_QUESTION_PROMPT = PromptTemplate.from_template(_template)"
   ]
  },
  {
   "cell_type": "code",
   "execution_count": 28,
   "id": "0c552e98-0bca-4c33-be69-de1ad98bb7ab",
   "metadata": {
    "tags": []
   },
   "outputs": [],
   "source": [
    "custom_template = \"\"\"Given the following conversation and a follow up question, rephrase the follow up question to be a standalone question, in its original language.\n",
    "\n",
    "Chat History:\n",
    "{chat_history}\n",
    "Follow Up Input: {question}\n",
    "Standalone question:\"\"\""
   ]
  },
  {
   "cell_type": "code",
   "execution_count": 29,
   "id": "d465c036-f056-4cc9-ba5a-00667ea826c7",
   "metadata": {
    "tags": []
   },
   "outputs": [],
   "source": [
    "CUSTOM_QUESTION_PROMPT = PromptTemplate.from_template(custom_template)"
   ]
  },
  {
   "cell_type": "code",
   "execution_count": 30,
   "id": "a5c40fae-7a95-476d-a177-6237cb61f2f4",
   "metadata": {
    "tags": []
   },
   "outputs": [],
   "source": [
    "memory = ConversationBufferMemory(memory_key=\"chat_history\", return_messages=True)\n",
    "qa = ConversationalRetrievalChain.from_llm(\n",
    "    llm,\n",
    "    set_retriver(\"Quantization_Test\"),\n",
    "    condense_question_prompt=CUSTOM_QUESTION_PROMPT,\n",
    "    memory=memory\n",
    ")"
   ]
  },
  {
   "cell_type": "code",
   "execution_count": null,
   "id": "d399bc98-cdb9-48ef-ab18-88674349f283",
   "metadata": {},
   "outputs": [],
   "source": []
  },
  {
   "cell_type": "code",
   "execution_count": 31,
   "id": "3a5f8c52-022e-4516-b0a7-8be7cc6c20a2",
   "metadata": {
    "tags": []
   },
   "outputs": [
    {
     "name": "stdout",
     "output_type": "stream",
     "text": [
      "\n",
      "\n",
      "\u001b[1m> Entering new ConversationalRetrievalChain chain...\u001b[0m\n",
      "\n",
      "\u001b[1m> Finished chain.\u001b[0m\n"
     ]
    }
   ],
   "source": [
    "query = \"What does splicing mean ?\"\n",
    "result = qa(query)"
   ]
  },
  {
   "cell_type": "code",
   "execution_count": 32,
   "id": "5c4b43b3-0a5c-49d5-9a15-74b006599fcb",
   "metadata": {
    "tags": []
   },
   "outputs": [
    {
     "data": {
      "text/plain": [
       "' Splicing refers to the process of joining exons together during gene expression. It involves recognizing the introns (non-coding regions) and removing them so that the exons (coding regions) can be joined together to form a continuous RNA molecule. This process is crucial for the proper synthesis of proteins from genetic information.'"
      ]
     },
     "execution_count": 32,
     "metadata": {},
     "output_type": "execute_result"
    }
   ],
   "source": [
    "result[\"answer\"]"
   ]
  },
  {
   "cell_type": "code",
   "execution_count": 33,
   "id": "6f1f5556-1423-4387-a96d-16235c9b064e",
   "metadata": {
    "tags": []
   },
   "outputs": [
    {
     "name": "stdout",
     "output_type": "stream",
     "text": [
      "\n",
      "\n",
      "\u001b[1m> Entering new ConversationalRetrievalChain chain...\u001b[0m\n",
      "\n",
      "\u001b[1m> Finished chain.\u001b[0m\n"
     ]
    }
   ],
   "source": [
    "query = \"Summarize the previous answer\"\n",
    "result = qa({\"question\": query})"
   ]
  },
  {
   "cell_type": "code",
   "execution_count": 34,
   "id": "ec494ad7-2b33-42c4-a271-9bfdaf1e9b2b",
   "metadata": {
    "tags": []
   },
   "outputs": [
    {
     "data": {
      "text/plain": [
       "' Sure! Splicing is the process by which the genetic code is edited before it is translated into proteins. It involves cutting out certain parts of the DNA sequence and joining others together in a particular order. There are many different ways that splicing can occur, depending on the specific genetic code being edited and the conditions under which it is done. One common way that splicing occurs is through the use of specialized enzymes called splicing factors, which recognize specific sequences in the DNA code and cut or join other sequences accordingly. These splicing factors can either remove or add extra sections of DNA code, creating different versions of the same protein. Another way that splicing can occur is through the action of intronic regions, which are located within the DNA code itself rather than near its edges. These intronic regions can fold back upon themselves in such a way as to cover up part of another section of the code, effectively \"editing\" it without actually removing any nucleotides from the chain. Finally, there are also various mechanisms by which RNA molecules can act as intermediates during splicing, carrying information between different parts of the genetic code and helping ensure that everything gets properly edited before translation begins.'"
      ]
     },
     "execution_count": 34,
     "metadata": {},
     "output_type": "execute_result"
    }
   ],
   "source": [
    "result['answer']"
   ]
  },
  {
   "cell_type": "code",
   "execution_count": 35,
   "id": "af6f7efe-0d79-439b-8133-450c27c1b411",
   "metadata": {
    "tags": []
   },
   "outputs": [
    {
     "name": "stdout",
     "output_type": "stream",
     "text": [
      "\n",
      "\n",
      "\u001b[1m> Entering new ConversationalRetrievalChain chain...\u001b[0m\n",
      "\n",
      "\u001b[1m> Finished chain.\u001b[0m\n"
     ]
    }
   ],
   "source": [
    "query = \"Great, now explain it to me like I am 5 years old\"\n",
    "result = qa({\"question\": query})"
   ]
  },
  {
   "cell_type": "code",
   "execution_count": 36,
   "id": "f76f6936-17fb-4fb6-9356-bb3316b8839d",
   "metadata": {
    "tags": []
   },
   "outputs": [
    {
     "data": {
      "text/plain": [
       "' Sure! Splicing is like building a puzzle. You start with a bunch of little pieces (called exons), and then you put them together in a special way to form a complete picture (the final product). But sometimes one or more pieces might get left out, which can change how the final product looks. That\\'s kind of like what happens when we talk about \"exon skipping\".'"
      ]
     },
     "execution_count": 36,
     "metadata": {},
     "output_type": "execute_result"
    }
   ],
   "source": [
    "result['answer']"
   ]
  },
  {
   "cell_type": "markdown",
   "id": "ae470260-22a4-47e1-92c6-0a00b28da080",
   "metadata": {},
   "source": [
    "## Return Source Documents"
   ]
  },
  {
   "cell_type": "code",
   "execution_count": 49,
   "id": "219a289c-3a05-4ffc-9d56-272e6e809118",
   "metadata": {
    "tags": []
   },
   "outputs": [],
   "source": [
    "from langchain.prompts.prompt import PromptTemplate\n",
    "\n",
    "def set_retriver(collection_name):\n",
    "    langchain_chroma = Chroma(\n",
    "    client=chroma,\n",
    "    collection_name= collection_name,\n",
    "    embedding_function=embedding_function)\n",
    "    \n",
    "    retriever = langchain_chroma.as_retriever(search_kwargs={\"k\": 2, \"search_type\" : \"similarity\"})\n",
    "    return retriever\n",
    "\n",
    "# qa = ConversationalRetrievalChain.from_llm(\n",
    "#     llm,\n",
    "#     set_retriver(\"default\"),\n",
    "#     condense_question_llm = llm,\n",
    "#     memory=memory,\n",
    "#     return_source_documents=True\n",
    "# )\n",
    "\n",
    "\n",
    "_template = \"\"\"Given the following conversation and a follow up question, rephrase the follow up question to be a standalone question, in its original language.\n",
    "\n",
    "Chat History:\n",
    "{chat_history}\n",
    "Follow Up Input: {question}\n",
    "Standalone question:\"\"\"\n",
    "CONDENSE_QUESTION_PROMPT = PromptTemplate.from_template(_template)"
   ]
  },
  {
   "cell_type": "code",
   "execution_count": 50,
   "id": "41bda940-8d7b-49d0-96a4-70c5fb2f9250",
   "metadata": {
    "tags": []
   },
   "outputs": [],
   "source": [
    "custom_template = \"\"\"Given the following conversation and a follow up question, rephrase the follow up question to be a standalone question, in its original language.\n",
    "\n",
    "Chat History:\n",
    "{chat_history}\n",
    "Follow Up Input: {question}\n",
    "Standalone question:\"\"\""
   ]
  },
  {
   "cell_type": "code",
   "execution_count": 51,
   "id": "872326f3-6e98-4fb5-a7b7-e96c50a69c4e",
   "metadata": {
    "tags": []
   },
   "outputs": [],
   "source": [
    "CUSTOM_QUESTION_PROMPT = PromptTemplate.from_template(custom_template)"
   ]
  },
  {
   "cell_type": "code",
   "execution_count": 52,
   "id": "1b18dbe1-3d19-45d0-98d3-f783ae4d6675",
   "metadata": {
    "tags": []
   },
   "outputs": [],
   "source": [
    "memory = ConversationBufferMemory(memory_key=\"chat_history\", return_messages=True,  output_key='answer')\n",
    "qa = ConversationalRetrievalChain.from_llm(\n",
    "    llm,\n",
    "    set_retriver(\"default\"),\n",
    "    condense_question_prompt=CUSTOM_QUESTION_PROMPT,\n",
    "    condense_question_llm = llm,\n",
    "    memory=memory,\n",
    "    return_source_documents=True\n",
    ")"
   ]
  },
  {
   "cell_type": "code",
   "execution_count": 53,
   "id": "95a20330-a3ff-44c8-a1bb-b0dd547f4390",
   "metadata": {
    "tags": []
   },
   "outputs": [
    {
     "name": "stdout",
     "output_type": "stream",
     "text": [
      "\n",
      "\n",
      "\u001b[1m> Entering new ConversationalRetrievalChain chain...\u001b[0m\n",
      "\n",
      "\u001b[1m> Finished chain.\u001b[0m\n"
     ]
    }
   ],
   "source": [
    "query = \"What does splicing mean ?\"\n",
    "result = qa(query)"
   ]
  },
  {
   "cell_type": "code",
   "execution_count": 54,
   "id": "8eb37aa7-5fa3-492c-9cec-1642b42880cd",
   "metadata": {
    "tags": []
   },
   "outputs": [
    {
     "data": {
      "text/plain": [
       "' Splicing refers to the process of joining exons together during gene expression. It involves recognizing the introns (non coding regions) and removing them so that the exons (coding regions) can be joined together to form a continuous RNA molecule. This process occurs in the nucleus before the RNA molecule is transported to the cytoplasm where it is translated into protein.'"
      ]
     },
     "execution_count": 54,
     "metadata": {},
     "output_type": "execute_result"
    }
   ],
   "source": [
    "result[\"answer\"]"
   ]
  },
  {
   "cell_type": "code",
   "execution_count": 48,
   "id": "64714a70-ac31-4536-b7f4-e2d183e27442",
   "metadata": {
    "collapsed": true,
    "jupyter": {
     "outputs_hidden": true
    },
    "tags": []
   },
   "outputs": [
    {
     "data": {
      "text/plain": [
       "Document(page_content='184T. Yokota et al 6. Yokota T, Lu Q, Morgan JE, et al. Expansion of revertant fibers in dystrophic mdx muscles reflects activity of muscle precursor cells and serves as an index of muscle regeneration. J Cell Sci 2006;119:2679-87. 7. Lu QL, Morris GE, Wilton SD, et al. Massive idiosyncratic exon skipping corrects the nonsense mutation in dystrophic mouse mus - cle and produces functional revertant fibers by clonal expansion. J Cell Biol 2000;148:985-96. 8. Dietz HC, Kendzior RJ Jr. Maintenance of an open reading frame as an additional level of scrutiny during splice site selection. Nat Genet 1994;8:183-8. 9. Naylor J, Brinke A, Hassock S, Green PM, Giannelli F. Charac - teristic mRNA abnormality found in half the patients with severe haemophilia A is due to large DNA inversions. Hum Mol Genet 1993;2:1773-8. 10. Lu QL, Lou F, Bou-Gharios G, et al. Functional amounts of dys - trophin produced by skipping the mutated exon in the mdx dys - trophic mouse. Nat Med 2003;9:1009-14. 11. Lu QL, Rabinowitz A, Chen YC, et al. Systemic delivery of antisense oligoribonucleotide restores dystrophin expression in body-wide skeletal muscles. Proc Natl Acad Sci USA 2005;102:198-203. 12. Summerton J, Weller D. Morpholino antisense oligomers: design, preparation, and properties. Antisense Nucleic Acid Drug Dev 1997;7:187-95. 13. Alter J, Lou F, Rabinowitz A, et al. Systemic delivery of mor - pholino oligonucleotide restores dystrophin expression bodywide and improves dystrophic pathology. Nat Med 2006;12:175-7. 14. Muntoni F, Bushby K, van Ommen G. 128th ENMC Internation - al Workshop on ‘Preclinical optimization and Phase I/II Clinical Trials Using Antisense Oligonucleotides in Duchenne Muscular Dystrophy’. 22-24 October 2004, Naarden, The Netherlands. Neu - romuscul Disord 2005;15:450-7. 15. Adams AM, Harding PL, Iversen PL, et al. Antisense oligonucle - otide induced exon skipping and the dystrophin gene transcript: cocktails and chemistries. BMC Mol Biol 2007;8:57. 16. Aartsma-Rus A, Van Deutekom JC, Fokkema IF, Van Ommen GJ, Den Dunnen JT. Entries in the Leiden Duchenne muscular dystro - phy mutation database: an overview of mutation types and para - doxical cases that confirm the reading-frame rule. Muscle Nerve 2006;34:135-44. 17. Araki E, Nakamura K, Nakao K, et al. Targeted disruption of exon 52 in the mouse dystrophin gene induced muscle degeneration similar to that observed in Duchenne muscular dystrophy. Biochem Biophys Res Commun 1997;238:492-7. 18. Im WB, SF Phelps, EH Copen, et al. Differential expression of dys - trophin isoforms in strains of mdx mice with different mutations. Hum Mol Genet 1996;5:1149-53. 19. Kameya S, Araki E, Katsuki M, et al. Dp260 disrupted mice re -vealed prolonged implicit time of the b-wave in ERG and loss of accumulation of beta-dystroglycan in the outer plexiform layer of the retina. Hum Mol Genet 1997;6:2195-203. 20. Cox GA, Phelps SF, Chapman VM, Chamberlain JS. New mdx mutation disrupts expression of muscle and nonmuscle isoforms of dystrophin. Nat Genet 1993;4:87-93. 21. Haenggi T, Soontornmalai A, Schaub MC, Fritschy JM. The role of utrophin and Dp71 for assembly of different dystrophin-associated protein complexes (DPCs) in the choroid plexus and microvascula - ture of the brain. Neuroscience 2004;129:403-13. 22. Papadopoulos MC, Verkman AS. Aquaporin-4 and brain edema. Pediatr Nephrol 2007;22:778-84. 23. Yokota T, Miyagoe Y , Hosaka Y , et al. Aquaporin-4 is absent at the sarcolemma and at perivascular astrocyte endfeet in a1-syntrophin knockout mice. Proc Japan Acad 2000;76B:22-7. 24. Arechavala-Gomeza V , Graham IR, Popplewell LJ, et al. Compara - tive analysis of antisense oligonucleotide sequences for targeted skipping of exon 51 during dystrophin pre-mRNA splicing in hu - man muscle. Hum Gene Ther 2007;18:798-810. 25. Fall AM, Johnsen R, Honeyman K, et al. Induction of revertant fibres in the mdx mouse using antisense oligonucleotides. Genet Vaccines Ther 2006;4:3-6. 26. Yokota T, Pistilli E, Duddy W, Nagaraju K. Potential of oligonu - cleotide-mediated exon-skipping therapy for Duchenne muscular dystrophy. Expert Opin Biol Ther 2007;7:831-42. 27. Aartsma-Rus A, Janson AA, van Ommen GJ, van Deutekom JC. Antisense-induced exon skipping for duplications in Duchenne muscular dystrophy. BMC Med Genet 2007;8:43-8. 28. Covone AE, Lerone M, Romeo G. Genotype-phenotype correlation and germline mosaicism in DMD/BMD patients with deletions of the dystrophin gene. Hum Genet 1991;87:353-60. 29. Talkop UA, Klaassen T, Piirsoo A, et al. Duchenne and Becker mus - cular dystrophies: an Estonian experience. Brain Dev 1999;21:244- 7. 30. Saadat L, Pittman L, Menhart N. Structural cooperativity in spec - trin type repeats motifs of dystrophin. Biochim Biophys Acta 2006;1764:943-54. 31. Menhart N. Hybrid spectrin type repeats produced by exon-skip - ping in dystrophin. Biochim Biophys Acta 2006;1764:993-9. 32. Amann KJ, Renley BA, Ervasti JM. A cluster of basic repeats in the dystrophin rod domain binds F-actin through an electrostatic interaction. J Biol Chem 1998;273:28419-23. 33. Amann KJ, Guo AW, Ervasti JM. Utrophin lacks the rod domain ac - tin binding activity of dystrophin. J Biol Chem 1999;274:35375-80. 34. Koenig M, Kunkel LM. Detailed analysis of the repeat domain of dystrophin reveals four potential hinge segments that may confer flexibility. J Biol Chem 1990;265:4560-6.', metadata={'page': 5, 'source': '/home/cdsw/data/Optimizing_Exon_Skipping.pdf'})"
      ]
     },
     "execution_count": 48,
     "metadata": {},
     "output_type": "execute_result"
    }
   ],
   "source": [
    "result[\"source_documents\"][0]"
   ]
  },
  {
   "cell_type": "code",
   "execution_count": 55,
   "id": "215c831c-09f4-4dfe-9d27-9a001781bc86",
   "metadata": {
    "tags": []
   },
   "outputs": [
    {
     "name": "stdout",
     "output_type": "stream",
     "text": [
      "\n",
      "\n",
      "\u001b[1m> Entering new ConversationalRetrievalChain chain...\u001b[0m\n",
      "\n",
      "\u001b[1m> Finished chain.\u001b[0m\n"
     ]
    }
   ],
   "source": [
    "query = \"Summarize the previous answer\"\n",
    "result = qa({\"question\": query})"
   ]
  },
  {
   "cell_type": "code",
   "execution_count": 56,
   "id": "b533324e-1568-421f-b963-2b109f8d0813",
   "metadata": {
    "tags": []
   },
   "outputs": [
    {
     "data": {
      "text/plain": [
       "' Sure! Splicing is the process by which the genetic code is edited before it is translated into proteins. It involves cutting out certain parts of the DNA sequence and joining others together in a particular order. There are many different ways that splicing can occur, depending on the specific genetic code being edited and the conditions under which it is done. One common way that splicing occurs is through the use of specialized molecules called \"splicing factors.\" These molecules recognize specific sequences within the DNA code and bind to them, causing the relevant sections to be cut out and joined together in a particular order. Another way that splicing can occur is through the action of enzymes called \"exonucleases,\" which can remove specific sections of the DNA code and then join other sections back together again. Overall, splicing plays a crucial role in determining the final form of the proteins that are produced from our genetic code. Without it, we would not be able to create the wide variety of proteins that are necessary for life.'"
      ]
     },
     "execution_count": 56,
     "metadata": {},
     "output_type": "execute_result"
    }
   ],
   "source": [
    "result[\"answer\"]"
   ]
  },
  {
   "cell_type": "code",
   "execution_count": 57,
   "id": "fb58b642-18fc-44c4-9e3d-fd356de0652f",
   "metadata": {
    "tags": []
   },
   "outputs": [
    {
     "name": "stdout",
     "output_type": "stream",
     "text": [
      "\n",
      "\n",
      "\u001b[1m> Entering new ConversationalRetrievalChain chain...\u001b[0m\n",
      "\n",
      "\u001b[1m> Finished chain.\u001b[0m\n"
     ]
    }
   ],
   "source": [
    "query = \"Great, now explain it to me like I am 5 years old\"\n",
    "result = qa({\"question\": query})"
   ]
  },
  {
   "cell_type": "code",
   "execution_count": 58,
   "id": "2ba3a5bb-6c98-468d-8e22-ab70d84cf0a3",
   "metadata": {
    "tags": []
   },
   "outputs": [
    {
     "data": {
      "text/plain": [
       "' Sure! Splicing is like building a puzzle. You start with a bunch of little pieces (called exons), and then you put them together in a special way to form a complete picture (the final product). But sometimes, one or more of these pieces might not fit quite right, so you need to find a new way to connect them. That\\'s kind of like what happens when we talk about \"splicing\" a gene. We\\'re finding a new way to connect the pieces of information inside the gene so they can come together correctly and make sense.'"
      ]
     },
     "execution_count": 58,
     "metadata": {},
     "output_type": "execute_result"
    }
   ],
   "source": [
    "result[\"answer\"]"
   ]
  },
  {
   "cell_type": "code",
   "execution_count": null,
   "id": "4c7103e6-2cc3-4da2-a7b0-15f6c97982f0",
   "metadata": {},
   "outputs": [],
   "source": []
  }
 ],
 "metadata": {
  "kernelspec": {
   "display_name": "Python 3 (ipykernel)",
   "language": "python",
   "name": "python3"
  },
  "language_info": {
   "codemirror_mode": {
    "name": "ipython",
    "version": 3
   },
   "file_extension": ".py",
   "mimetype": "text/x-python",
   "name": "python",
   "nbconvert_exporter": "python",
   "pygments_lexer": "ipython3",
   "version": "3.9.16"
  }
 },
 "nbformat": 4,
 "nbformat_minor": 5
}
