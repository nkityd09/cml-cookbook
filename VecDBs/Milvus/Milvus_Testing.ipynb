{
 "cells": [
  {
   "cell_type": "markdown",
   "id": "20eba6cf-2d23-4de1-969c-3f0b0144c74b",
   "metadata": {},
   "source": [
    "## Connecting to Milvus"
   ]
  },
  {
   "cell_type": "code",
   "execution_count": 21,
   "id": "c58e9ca9-37cc-4b3e-9187-8f6b5aa9446e",
   "metadata": {},
   "outputs": [],
   "source": [
    "from pymilvus import connections\n",
    "connections.connect(\n",
    "  alias=\"default\",\n",
    "  user='username',\n",
    "  password='password',\n",
    "  host='0.0.0.0',\n",
    "  port='19530'\n",
    ")"
   ]
  },
  {
   "cell_type": "markdown",
   "id": "d3c8a061-eff7-4e05-a646-7653be5d1ad7",
   "metadata": {},
   "source": [
    "## Creating Schema of VectorDB Collection"
   ]
  },
  {
   "cell_type": "code",
   "execution_count": 10,
   "id": "bfedf958-337c-46fa-a94a-ac5e569a1f82",
   "metadata": {
    "tags": []
   },
   "outputs": [],
   "source": [
    "from pymilvus import CollectionSchema, FieldSchema, DataType\n",
    "book_id = FieldSchema(\n",
    "  name=\"book_id\",\n",
    "  dtype=DataType.INT64,\n",
    "  is_primary=True,\n",
    ")\n",
    "book_name = FieldSchema(\n",
    "  name=\"book_name\",\n",
    "  dtype=DataType.VARCHAR,\n",
    "  max_length=200,\n",
    "  # The default value will be used if this field is left empty during data inserts or upserts.\n",
    "  # The data type of `default_value` must be the same as that specified in `dtype`.\n",
    "  default_value=\"Unknown\"\n",
    ")\n",
    "word_count = FieldSchema(\n",
    "  name=\"word_count\",\n",
    "  dtype=DataType.INT64,\n",
    "  # The default value will be used if this field is left empty during data inserts or upserts.\n",
    "  # The data type of `default_value` must be the same as that specified in `dtype`.\n",
    "  default_value=9999\n",
    ")\n",
    "book_intro = FieldSchema(\n",
    "  name=\"book_intro\",\n",
    "  dtype=DataType.FLOAT_VECTOR,\n",
    "  dim=2\n",
    ")\n",
    "schema = CollectionSchema(\n",
    "  fields=[book_id, book_name, word_count, book_intro],\n",
    "  description=\"Test book search\",\n",
    "  enable_dynamic_field=True\n",
    ")\n",
    "collection_name = \"book\"\n"
   ]
  },
  {
   "cell_type": "markdown",
   "id": "368cc322-f309-40dc-a669-8a71db1b12b0",
   "metadata": {},
   "source": [
    "## Creating a Collection"
   ]
  },
  {
   "cell_type": "code",
   "execution_count": 11,
   "id": "43709bd7-90ed-46a5-a527-777b8522ea37",
   "metadata": {
    "tags": []
   },
   "outputs": [],
   "source": [
    "from pymilvus import Collection\n",
    "collection = Collection(\n",
    "    name=collection_name,\n",
    "    schema=schema,\n",
    "    using='default',\n",
    "    shards_num=2\n",
    "    )\n"
   ]
  },
  {
   "cell_type": "markdown",
   "id": "99893a8b-fdd4-4def-9255-012d1a075741",
   "metadata": {},
   "source": [
    "## Milvus Collection Functions"
   ]
  },
  {
   "cell_type": "code",
   "execution_count": 12,
   "id": "5b4b1542-1e74-4893-a483-9a1e9e0f908c",
   "metadata": {
    "tags": []
   },
   "outputs": [
    {
     "data": {
      "text/plain": [
       "[]"
      ]
     },
     "execution_count": 12,
     "metadata": {},
     "output_type": "execute_result"
    }
   ],
   "source": [
    "from pymilvus import Collection\n",
    "collection = Collection(\"book\")  # Get an existing collection.\n",
    "\n",
    "collection.schema                # Return the schema.CollectionSchema of the collection.\n",
    "collection.description           # Return the description of the collection.\n",
    "collection.name                  # Return the name of the collection.\n",
    "collection.is_empty              # Return the boolean value that indicates if the collection is empty.\n",
    "collection.num_entities          # Return the number of entities in the collection.\n",
    "collection.primary_field         # Return the schema.FieldSchema of the primary key field.\n",
    "collection.partitions            # Return the list[Partition] object.\n",
    "collection.indexes               # Return the list[Index] object.\n",
    "#collection.properties\t\t# Return the expiration time of data in the collection.\n"
   ]
  },
  {
   "cell_type": "code",
   "execution_count": 13,
   "id": "4c2054f7-44f5-45ca-b9dc-dfdb2c0387d0",
   "metadata": {
    "tags": []
   },
   "outputs": [
    {
     "data": {
      "text/plain": [
       "['book']"
      ]
     },
     "execution_count": 13,
     "metadata": {},
     "output_type": "execute_result"
    }
   ],
   "source": [
    "from pymilvus import utility\n",
    "utility.list_collections()"
   ]
  },
  {
   "cell_type": "code",
   "execution_count": 16,
   "id": "2d30a3ab-d90b-46dc-89fb-f7fb8a80b909",
   "metadata": {
    "tags": []
   },
   "outputs": [
    {
     "data": {
      "text/plain": [
       "{'auto_id': False, 'description': 'Test book search', 'fields': [{'name': 'book_id', 'description': '', 'type': <DataType.INT64: 5>, 'is_primary': True, 'auto_id': False}, {'name': 'book_name', 'description': '', 'type': <DataType.VARCHAR: 21>, 'params': {'max_length': 200}}, {'name': 'word_count', 'description': '', 'type': <DataType.INT64: 5>}, {'name': 'book_intro', 'description': '', 'type': <DataType.FLOAT_VECTOR: 101>, 'params': {'dim': 2}}], 'enable_dynamic_field': True}"
      ]
     },
     "execution_count": 16,
     "metadata": {},
     "output_type": "execute_result"
    }
   ],
   "source": [
    "from pymilvus import Collection\n",
    "collection = Collection(\"book\")  # Get an existing collection.\n",
    "\n",
    "collection.schema                # Return the schema.CollectionSchema of the collection.\n"
   ]
  },
  {
   "cell_type": "code",
   "execution_count": 1,
   "id": "39d71cd6-8ad8-4955-bff9-1a5425c27ac2",
   "metadata": {},
   "outputs": [],
   "source": [
    "from pymilvus import connections\n",
    "from pymilvus import CollectionSchema, FieldSchema, DataType\n",
    "from pymilvus import utility\n",
    "from pymilvus import Collection\n",
    "from sentence_transformers import SentenceTransformer\n",
    "from langchain.vectorstores import Milvus\n",
    "\n",
    "connections.connect(\n",
    "  alias=\"default\",\n",
    "  user='username',\n",
    "  password='password',\n",
    "  host='0.0.0.0',\n",
    "  port='19530'\n",
    ")\n",
    "\n",
    "def create_milvus_collections(dim):\n",
    "    transcribe_text_id = FieldSchema(name=\"text_id\", dtype=DataType.VARCHAR, is_primary=True, max_length = 4096)\n",
    "    summary_text_id = FieldSchema(name=\"text_id\", dtype=DataType.VARCHAR, is_primary=True, max_length = 4096)\n",
    "    transcribed_text = FieldSchema(name=\"transcribed_text\", dtype=DataType.VARCHAR, max_length = 8192)\n",
    "    transcribed_text_embeddings = FieldSchema(name=\"transcribed_text_embeddings\", dtype=DataType.FLOAT_VECTOR, dim=dim)\n",
    "    summary_text = FieldSchema(name=\"summary_text\", dtype=DataType.VARCHAR, max_length = 4096)\n",
    "    summary_text_embedding = FieldSchema(name=\"summary_text_embeddings\", dtype=DataType.FLOAT_VECTOR, dim=dim)\n",
    "\n",
    "    transcribe_schema = CollectionSchema(fields=[transcribe_text_id, transcribed_text, transcribed_text_embeddings], description=\"Transcribed Text Collection\", enable_dynamic_field=True)\n",
    "    summary_schema = CollectionSchema(fields=[summary_text_id, summary_text, summary_text_embedding], description=\"Summarized Text Collection\", enable_dynamic_field=True)\n",
    "\n",
    "    transcribe_collection = \"transcribed_text\"\n",
    "    summary_collection = \"summarized_text\"\n",
    "\n",
    "    t_collection = Collection(\n",
    "        name=transcribe_collection,\n",
    "        schema=transcribe_schema,\n",
    "        using='default',\n",
    "        shards_num=2\n",
    "        )\n",
    "\n",
    "    s_collection = Collection(\n",
    "        name=summary_collection,\n",
    "        schema=summary_schema,\n",
    "        using='default',\n",
    "        shards_num=2\n",
    "        )\n",
    "\n",
    "def create_embeddings(input_text):\n",
    "    model = SentenceTransformer(\"Muennighoff/SGPT-125M-weightedmean-nli-bitfit\")\n",
    "    embeddings = model.encode(input_text)\n",
    "    \n",
    "    return embeddings\n",
    "\n"
   ]
  },
  {
   "cell_type": "code",
   "execution_count": 2,
   "id": "d7313ed0-a1ea-4c00-8ee5-ec69f602a69d",
   "metadata": {
    "tags": []
   },
   "outputs": [
    {
     "data": {
      "text/plain": [
       "['transcribed_text', 'summarized_text', 'book']"
      ]
     },
     "execution_count": 2,
     "metadata": {},
     "output_type": "execute_result"
    }
   ],
   "source": [
    "from pymilvus import utility\n",
    "utility.list_collections()"
   ]
  },
  {
   "cell_type": "code",
   "execution_count": 3,
   "id": "e7d8a02f-d407-42ea-8d69-2f9efcb6e814",
   "metadata": {
    "tags": []
   },
   "outputs": [
    {
     "data": {
      "text/plain": [
       "{'auto_id': False, 'description': 'Transcribed Text Collection', 'fields': [{'name': 'text_id', 'description': '', 'type': <DataType.VARCHAR: 21>, 'params': {'max_length': 4096}, 'is_primary': True, 'auto_id': False}, {'name': 'transcribed_text', 'description': '', 'type': <DataType.VARCHAR: 21>, 'params': {'max_length': 4096}}, {'name': 'transcribed_text_embeddings', 'description': '', 'type': <DataType.FLOAT_VECTOR: 101>, 'params': {'dim': 768}}], 'enable_dynamic_field': True}"
      ]
     },
     "execution_count": 3,
     "metadata": {},
     "output_type": "execute_result"
    }
   ],
   "source": [
    "from pymilvus import Collection\n",
    "collection = Collection(\"transcribed_text\")  # Get an existing collection.\n",
    "\n",
    "collection.schema                # Return the schema.CollectionSchema of the collection.\n"
   ]
  },
  {
   "cell_type": "code",
   "execution_count": 5,
   "id": "3e317d28-73b4-4252-a913-443a9f3ffa7c",
   "metadata": {
    "tags": []
   },
   "outputs": [],
   "source": []
  },
  {
   "cell_type": "code",
   "execution_count": 6,
   "id": "a39fe48c-b24b-43b4-85be-48765bad14ea",
   "metadata": {
    "tags": []
   },
   "outputs": [],
   "source": [
    "text = \"Hello, this should be embedded\""
   ]
  },
  {
   "cell_type": "code",
   "execution_count": 8,
   "id": "37f36289-6acf-40d8-bd23-f67d896e3c49",
   "metadata": {
    "tags": []
   },
   "outputs": [],
   "source": [
    "embedded_text = create_embeddings(text)"
   ]
  },
  {
   "cell_type": "code",
   "execution_count": 9,
   "id": "9338dc09-c49c-4f11-9864-11b18c21687f",
   "metadata": {},
   "outputs": [
    {
     "name": "stdout",
     "output_type": "stream",
     "text": [
      "[ 2.02105969e-01  1.84946692e+00 -1.47331035e+00 -5.13172865e-01\n",
      "  6.94060773e-02  4.53420013e-01 -9.68684971e-01 -2.66722381e-01\n",
      " -6.21458888e-01 -9.83798876e-02 -6.63754880e-01  2.87147254e-01\n",
      "  1.12723064e+00  8.14244211e-01  6.42336667e-01  1.17349219e+00\n",
      "  1.73548404e-02 -4.09924090e-01  1.21874750e+00  2.47580141e-01\n",
      " -1.27779102e+00  4.93384957e-01  9.03274864e-02  1.55788016e+00\n",
      " -2.15529203e+00 -2.50851369e+00  1.11809932e-01  6.85017407e-01\n",
      "  5.46949267e-01  2.30876222e-01 -2.06775331e+00 -6.91600859e-01\n",
      "  2.45692298e-01 -1.77427292e-01 -1.33899879e+00  7.08162606e-01\n",
      " -7.36086965e-01 -2.92763710e-01  4.99359891e-02 -5.37186116e-02\n",
      " -1.19170821e+00 -1.10420537e+00 -3.59364003e-01  3.78641039e-01\n",
      "  1.38330817e-01 -2.34214917e-01 -1.82530671e-01  4.07104157e-02\n",
      " -6.44343615e-01  1.55596614e+00  2.04011410e-01  8.03849638e-01\n",
      "  1.65576589e+00  8.49263251e-01  8.98046017e-01 -1.18751526e-01\n",
      " -5.94457507e-01 -3.59719336e-01 -6.50382936e-02 -1.57453883e+00\n",
      "  1.49545595e-01  5.21101296e-01  5.13323843e-01  3.56602445e-02\n",
      "  6.05910718e-01 -2.67673111e+00 -5.28009892e-01  9.97304797e-01\n",
      "  4.84109700e-01 -3.72836530e-01 -1.15502834e+00 -1.47227257e-01\n",
      "  3.93652543e-02  5.62571168e-01  2.48703778e-01 -1.49824433e-02\n",
      " -1.99678972e-01  1.01958048e+00 -1.17968515e-01 -7.37636626e-01\n",
      " -1.45622861e+00  4.51888144e-02 -7.56842017e-01  1.54167831e+00\n",
      "  8.63011479e-01  4.03016686e-01 -6.66710615e+00  3.95010710e-01\n",
      " -1.03058493e+00 -3.29596937e-01 -7.25092217e-02 -1.54616678e+00\n",
      "  2.53132486e+00 -6.05072640e-02  7.45660245e-01 -6.63427770e-01\n",
      "  1.72394305e-01  3.17738615e-02 -7.57747293e-01  4.52772677e-01\n",
      "  1.65677679e+00  7.40611672e-01 -2.34676242e-01 -5.08738942e-02\n",
      "  1.18813194e-01 -1.27508414e+00 -5.23095801e-02 -8.91626000e-01\n",
      " -3.40543628e-01 -5.89014173e-01  4.11078274e-01  1.59476149e+00\n",
      "  9.50669169e-01 -2.67993420e-01  3.72804910e-01 -3.38170052e-01\n",
      " -1.41173139e-01  2.71924406e-01  4.42687750e-01 -3.95204216e-01\n",
      " -7.76944816e-01 -6.82229102e-01 -7.11143613e-01 -1.61514449e+00\n",
      " -3.33490431e-01  4.48185652e-01 -6.84107661e-01  8.71437252e-01\n",
      " -3.45961809e-01  2.02854490e+00  3.91040802e-01 -9.18967843e-01\n",
      "  5.61380684e-01 -7.06918895e-01  2.48831317e-01 -6.91760302e-01\n",
      "  3.29674274e-01  1.26672447e+00  2.06403542e+00 -5.44679523e-01\n",
      "  1.00873923e+00 -1.03178620e+00  7.77597904e-01 -1.60056627e+00\n",
      "  1.46513307e+00 -3.55016768e-01  2.57394600e+00 -9.29500461e-01\n",
      "  6.09672852e-02 -3.45561624e-01  3.85655820e-01 -5.34332275e-01\n",
      " -1.04628587e+00 -2.11416841e+00 -5.36338508e-01  2.28783771e-01\n",
      " -7.48701930e-01 -3.23895395e-01  5.45800269e-01 -6.73515797e-01\n",
      " -8.03381324e-01  8.62874866e-01 -1.24185121e+00  9.04818237e-01\n",
      "  1.47730780e+00 -7.93306649e-01 -9.38856006e-02 -1.24203396e+00\n",
      " -1.15620506e+00  4.91918892e-01  2.59006739e-01  1.60097599e+00\n",
      "  5.50038815e-01  9.44887195e-03 -7.87965238e-01 -7.06339777e-01\n",
      "  9.76413190e-01  8.84457707e-01  2.56452262e-01 -1.54592991e-01\n",
      " -6.79453313e-02 -8.48225201e-04  1.07282960e+00  9.80276763e-01\n",
      "  1.47410274e-01 -8.58762205e-01 -6.97972119e-01 -1.15441477e+00\n",
      "  2.40471065e-01 -1.68315381e-01  4.91750538e-01 -1.93954825e-01\n",
      "  1.45636332e+00 -5.62986732e-01  2.39897817e-01  4.56082940e-01\n",
      " -4.37851995e-01 -2.97276258e-01 -3.51697445e-01  4.78390962e-01\n",
      " -5.75574696e-01 -6.99226335e-02 -1.71213239e-01  1.04276681e+00\n",
      " -5.01881123e-01 -2.22591788e-01  4.50029463e-01 -1.15802479e+00\n",
      "  1.38019347e+00  1.11640859e+00  2.61442602e-01 -2.78370142e-01\n",
      " -6.90867543e-01 -4.29949045e-01 -9.03976113e-02 -8.66902649e-01\n",
      " -8.02719295e-01  1.01146734e+00 -5.85918427e-01  1.00706995e+00\n",
      "  8.66382241e-01 -2.02578586e-03  3.16351932e-03  6.58876896e-01\n",
      " -8.81786168e-01 -6.74304590e-02 -2.18705088e-01 -1.09993768e+00\n",
      " -1.36417523e-01 -2.33929202e-01 -4.82792586e-01 -4.23031971e-02\n",
      "  1.16270995e+00 -6.24877810e-01  3.45762014e-01  8.68998587e-01\n",
      "  8.73740315e-01  4.98374492e-01 -1.33630961e-01 -3.86123568e-01\n",
      "  1.27593294e-01 -3.89482558e-01 -3.84414762e-01  1.92333698e+00\n",
      " -7.60315239e-01  7.42106080e-01 -3.34489077e-01  1.12078118e+00\n",
      "  1.05656803e-01  2.20553923e+00  2.63177790e-02 -1.10217142e+00\n",
      "  8.13572109e-01  1.34795249e+00  5.71257055e-01  4.27674204e-01\n",
      " -1.13047504e+00  4.26390588e-01 -1.84289837e+00 -2.36810949e-02\n",
      "  1.50870299e+00  1.37358725e+00 -1.63505167e-01 -4.55869883e-02\n",
      " -4.99265224e-01 -9.06077549e-02  8.00461471e-01  6.22687995e-01\n",
      " -9.37868282e-03 -1.37883145e-02  5.13672709e-01 -1.07676005e+00\n",
      " -1.28784860e-02 -2.00921750e+00 -3.71028185e-01 -1.80073369e+00\n",
      " -9.77841854e-01  1.51504010e-01  1.18275928e+00  2.34974567e-02\n",
      "  4.48568869e+00 -8.43737125e-01 -2.69351631e-01 -2.12323546e-01\n",
      " -1.02758534e-01  7.00752437e-01  5.21906137e-01 -1.59988022e+00\n",
      "  5.14886439e-01 -7.79164374e-01 -3.23761314e-01 -8.82647753e-01\n",
      " -1.05622292e-01 -2.17827797e-01 -4.52939197e-02 -1.37884408e-01\n",
      "  3.27116680e+00 -9.79315817e-01  5.47553182e-01  6.59590662e-01\n",
      " -1.37539268e+00  4.88723040e-01 -8.17374066e-02 -9.45620418e-01\n",
      "  1.08023894e+00  1.39008611e-01  5.70321679e-01 -9.92017388e-01\n",
      "  7.87651777e-01 -1.64279506e-01 -2.39751625e+00  5.42629957e-01\n",
      " -3.23560745e-01  8.65280181e-02  5.89131892e-01  2.41461254e-04\n",
      "  1.55789292e+00  2.51553446e-01  7.06510723e-01  1.20055521e+00\n",
      " -8.50561798e-01  2.40295440e-01  1.24992692e+00 -6.43124878e-01\n",
      " -5.75523078e-01 -2.42145628e-01 -1.69513845e+00 -9.77726355e-02\n",
      " -2.46071935e+00 -3.14305812e-01  2.16720670e-01 -8.88748318e-02\n",
      "  5.54444790e-01  5.68467617e-01  1.27863216e+00 -1.01240444e+00\n",
      "  1.96127638e-01  7.01823473e-01 -1.92888483e-01  2.23790073e+00\n",
      " -5.65991402e-01  7.43206358e-03  4.10871863e-01 -3.53230923e-01\n",
      " -1.47947145e+00 -2.40907213e-03 -1.29097134e-01  1.37957847e+00\n",
      " -4.42191392e-01 -1.41429329e+00  4.62706476e-01  5.96663415e-01\n",
      "  2.72118270e-01  9.85309601e-01 -7.10294366e-01 -3.69553775e-01\n",
      "  1.05479455e+00 -6.45802200e-01  3.35323870e-01 -2.59406447e-01\n",
      " -3.38931799e-01 -4.98985916e-01  4.15953398e-01  2.48145342e+00\n",
      " -1.02543399e-01 -1.22320151e+00 -7.46537685e-01 -5.49433649e-01\n",
      " -8.41259658e-02  6.15998320e-02 -1.64445972e+00  1.42235959e+00\n",
      "  4.04506624e-01  5.06639659e-01 -5.07071242e-02  8.12508911e-03\n",
      " -4.40040946e-01 -4.80843037e-01  9.33957577e-01 -7.93077111e-01\n",
      "  8.02772880e-01  7.86821470e-02  1.39273867e-01 -3.95233840e-01\n",
      "  8.27328265e-01 -6.90599382e-01  2.14589089e-01 -8.18493426e-01\n",
      " -6.27968162e-02 -5.00388622e-01  4.13776827e+00 -1.39202503e-02\n",
      " -4.36791360e-01  2.71484349e-02  2.93228418e-01  2.12189987e-01\n",
      "  6.48223400e-01  8.31644952e-01  5.77471912e-01 -4.57253307e-01\n",
      " -7.47202218e-01 -1.69354761e+00  5.94032764e-01 -6.51068687e-02\n",
      " -3.86267334e-01  7.94305578e-02  8.35730612e-01  1.76367092e+00\n",
      " -3.64517063e-01  8.37822616e-01 -7.90908277e-01 -1.18467355e+00\n",
      "  1.65800989e+00  2.24478543e-01 -9.81512189e-01  1.56850561e-01\n",
      "  1.06442130e+00 -7.14074433e-01  2.07147866e-01  2.44904548e-01\n",
      "  2.40326926e-01  1.27510667e-01  3.32155883e-01 -1.45410895e-01\n",
      " -1.94752246e-01 -8.42991937e-03  1.05475783e+00  2.13308737e-01\n",
      " -3.45291942e-01 -1.58273971e+00 -2.63050169e-01  1.30076706e-01\n",
      "  1.28571761e+00  6.75960958e-01  1.08313394e+00  8.67229104e-01\n",
      "  7.18489528e-01  2.07451296e+00 -9.00846004e-01 -7.74626255e-01\n",
      "  6.21045053e-01  8.12901616e-01 -2.30339789e+00  3.64577532e-01\n",
      "  6.55064166e-01 -8.22902858e-01  9.15097654e-01  8.56023312e-01\n",
      "  1.06231666e+00  1.28515732e+00  9.42962766e-02 -4.78703439e-01\n",
      "  8.33292484e-01 -1.06330621e+00 -3.23614657e-01  4.07937109e-01\n",
      "  7.24295318e-01 -6.35594070e-01  3.71278703e-01  1.36148226e+00\n",
      " -3.63770455e-01  2.94236600e-01  8.29072654e-01  9.56034958e-01\n",
      "  2.99269736e-01  7.78374255e-01  1.41731465e+00 -9.50578570e-01\n",
      " -1.68132409e-01 -9.12080586e-01  5.76944053e-01 -3.52132589e-01\n",
      " -7.09199071e-01  2.82325596e-01 -7.39927292e-01  3.52982342e-01\n",
      " -7.04988778e-01  8.30920160e-01 -8.92806470e-01  1.79282412e-01\n",
      " -7.60047555e-01  4.89175469e-01 -9.88609970e-01  2.37438416e+00\n",
      "  2.06101924e-01 -9.36181486e-01 -2.00303841e+00 -3.95483702e-01\n",
      " -1.84735984e-01  8.57318163e-01  1.02545694e-01  1.97845531e+00\n",
      " -2.92128269e-02  1.13187170e+00  1.86608469e+00 -2.44382545e-01\n",
      "  3.32906395e-01 -2.57026458e+00  9.76646543e-02  8.71829331e-01\n",
      " -1.35240710e+00  5.91956913e-01 -7.63923824e-01  1.56077415e-01\n",
      "  1.03685141e+00  1.09137022e+00  3.87282312e-01  1.16660893e-01\n",
      " -1.50840759e+00  4.21810299e-01  1.26301721e-01 -6.96791232e-01\n",
      " -6.11865461e-01  1.08078146e+00 -1.56331658e+00  6.22795522e-02\n",
      " -6.91244006e-01  1.81297272e-01  6.96950078e-01  2.20162570e-01\n",
      "  4.55080628e-01 -5.22568285e-01  6.45704746e-01 -2.95136198e-02\n",
      "  2.20853403e-01 -3.01181853e-01  7.92895615e-01 -1.64230895e+00\n",
      "  1.29084185e-01 -4.13316202e+00  1.74050808e-01  1.88052103e-01\n",
      " -1.81262150e-01  5.26231194e+00  9.38752964e-02  7.04707265e-01\n",
      "  7.73594737e-01 -4.12820309e-01  1.08246326e-01 -2.13123250e+00\n",
      "  5.67526484e+00 -1.52235174e+00 -4.00126815e-01 -2.90298373e-01\n",
      "  1.20287287e+00 -9.00113210e-02 -1.50768310e-01  1.17457712e+00\n",
      " -3.70167285e-01  2.60114938e-01 -8.09728265e-01 -1.56751359e+00\n",
      " -8.32692266e-01  8.08871686e-01 -5.92906296e-01  5.01296639e-01\n",
      " -6.21452451e-01 -1.32316196e+00  2.68869668e-01  1.17491019e+00\n",
      " -1.13702428e+00 -1.02568853e+00 -1.01055241e+00 -3.47910374e-01\n",
      " -3.56751174e-01  9.73638058e-01 -8.13647687e-01  2.17268497e-01\n",
      "  1.08934653e+00  8.63588989e-01  3.96685541e-01  8.51041004e-02\n",
      " -1.05699515e+00  6.21576309e-02  2.37145424e-01  6.11397207e-01\n",
      "  4.57836092e-01 -2.47612333e+00  6.90984070e-01  7.72782266e-01\n",
      "  2.69340336e-01  7.23779559e-01  2.85077810e-01  1.03471124e+00\n",
      "  5.63718826e-02  2.69128263e-01  5.75635195e-01 -9.17786658e-01\n",
      "  2.43628070e-01 -1.57348526e+00 -3.19248885e-01 -1.19841444e+00\n",
      "  1.03544056e-01 -5.77663839e-01 -1.90465838e-01  7.56735981e-01\n",
      "  2.27630436e-01  1.45060706e+00  6.15174472e-01 -2.16787741e-01\n",
      "  7.51228809e-01  3.38890553e-02 -1.84137132e-02 -5.91285288e-01\n",
      "  7.75940835e-01 -6.43643498e-01  1.30189919e+00 -2.70196223e+00\n",
      " -8.04477409e-02 -8.17768574e-01  8.21536839e-01 -1.36701807e-01\n",
      " -1.01057982e+00  1.54963747e-01 -2.48693556e-01  9.34191227e-01\n",
      "  3.76916111e-01 -1.95300624e-01 -1.08546138e+00 -3.70076716e-01\n",
      " -5.18804491e-01  7.07394257e-02  9.19200540e-01  2.77959317e-01\n",
      " -4.39316392e-01  9.96238351e-01  2.56668895e-01  2.59839386e-01\n",
      " -2.60690022e+00  5.73822856e-01 -3.02462935e-01 -3.34170610e-01\n",
      "  6.20951056e-01 -2.44305634e+00  7.76803970e-01  3.45983714e-01\n",
      "  8.20632204e-02 -9.48100388e-01 -1.98352888e-01  9.01337028e-01\n",
      "  7.20979214e-01  8.87498021e-01 -1.01436868e-01 -2.24944726e-01\n",
      "  2.37277675e+00 -7.19305158e-01  1.40360701e+00 -9.72246552e+00\n",
      " -9.47150886e-01  1.22215676e+00  8.87967274e-03 -8.63736033e-01\n",
      "  1.09826553e+00  7.30861366e-01 -1.69642317e+00 -6.86581492e-01\n",
      " -2.94725835e-01  3.39744873e-02  2.00716972e-01  1.67041302e+00\n",
      " -1.10473752e+00  5.28393865e-01 -1.49075866e+00 -5.74685574e-01\n",
      " -1.92159176e-01  8.17589462e-01 -1.33898050e-01 -1.43087840e+00\n",
      "  2.25029439e-01 -1.94887161e+00 -4.21580076e+00  3.34493965e-01\n",
      " -2.35517249e-01  4.71136898e-01  1.22504330e+00 -1.59508550e+00\n",
      "  2.69021571e-01 -4.76028800e-01  6.81092024e-01 -7.68798649e-01\n",
      "  6.24496825e-02  5.51636815e-01 -7.93032870e-02 -3.09928358e-01\n",
      "  2.48791382e-01  9.71561611e-01  4.41151470e-01  1.39861035e+00\n",
      " -1.67640960e+00  2.83813804e-01 -3.90885442e-01  6.55506968e-01\n",
      "  1.96317896e-01  1.47521842e+00  1.71277583e+00  5.58800757e-01\n",
      " -9.23916161e-01 -1.00771882e-01 -2.98407584e-01 -6.87953591e-01\n",
      "  2.35732213e-01  1.15318775e+00 -6.92435657e-04 -2.30417941e-02\n",
      "  3.05214196e-01 -3.96767467e-01 -2.52693248e+00 -9.83587444e-01\n",
      " -3.33107412e-01 -3.98787916e-01 -1.89903855e-01  3.51645201e-01\n",
      "  8.60355198e-01  2.06724375e-01  1.68948486e-01 -3.88776153e-01\n",
      "  1.35110354e+00  8.69990826e-01 -6.77317679e-02 -1.33625910e-01\n",
      "  7.27748692e-01  2.56153401e-02 -1.25756904e-01  1.67181209e-01\n",
      " -9.56846356e-01  2.44139224e-01 -5.84045835e-02 -9.06627953e-01\n",
      " -3.04558873e-01 -3.08614969e-01  3.02158713e-01  6.92560852e-01\n",
      "  1.23553514e+00  6.13481104e-01  9.11284164e-02  8.44345808e-01\n",
      " -1.17917132e+00  1.42079771e+00  9.89582598e-01  2.23078108e+00\n",
      "  7.26682916e-02  9.49856460e-01 -1.50775778e+00 -1.06378578e-01\n",
      "  4.62602019e-01  4.33272034e-01 -8.76678348e-01 -2.40554549e-02\n",
      "  2.36513138e-01 -1.71357423e-01 -3.90436858e-01 -5.81314340e-02\n",
      " -1.03094065e+00 -4.76474166e-01  1.66991711e+00 -6.68594658e-01\n",
      "  5.36608219e-01  9.48959440e-02 -7.80913293e-01  8.26257408e-01\n",
      "  6.43682957e-01 -1.99588805e-01 -3.67674500e-01 -1.10616922e+00\n",
      " -3.82853657e-01  5.32265604e-01  4.80948597e-01  1.02442479e+00]\n"
     ]
    }
   ],
   "source": []
  },
  {
   "cell_type": "code",
   "execution_count": null,
   "id": "eec88a24-7ac3-4ac4-bd95-9590a3a5c0cc",
   "metadata": {},
   "outputs": [],
   "source": []
  }
 ],
 "metadata": {
  "kernelspec": {
   "display_name": "Python 3 (ipykernel)",
   "language": "python",
   "name": "python3"
  },
  "language_info": {
   "codemirror_mode": {
    "name": "ipython",
    "version": 3
   },
   "file_extension": ".py",
   "mimetype": "text/x-python",
   "name": "python",
   "nbconvert_exporter": "python",
   "pygments_lexer": "ipython3",
   "version": "3.9.16"
  }
 },
 "nbformat": 4,
 "nbformat_minor": 5
}
